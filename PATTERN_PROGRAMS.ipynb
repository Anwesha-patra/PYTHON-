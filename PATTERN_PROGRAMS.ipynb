{
  "nbformat": 4,
  "nbformat_minor": 0,
  "metadata": {
    "colab": {
      "name": "PATTERN PROGRAMS.ipynb",
      "provenance": [],
      "authorship_tag": "ABX9TyNZqipNCAMe5npwAjuIFwTu",
      "include_colab_link": true
    },
    "kernelspec": {
      "name": "python3",
      "display_name": "Python 3"
    },
    "language_info": {
      "name": "python"
    }
  },
  "cells": [
    {
      "cell_type": "markdown",
      "metadata": {
        "id": "view-in-github",
        "colab_type": "text"
      },
      "source": [
        "<a href=\"https://colab.research.google.com/github/Anwesha-patra/PYTHON-/blob/main/PATTERN_PROGRAMS.ipynb\" target=\"_parent\"><img src=\"https://colab.research.google.com/assets/colab-badge.svg\" alt=\"Open In Colab\"/></a>"
      ]
    },
    {
      "cell_type": "markdown",
      "metadata": {
        "id": "ttTjdOGOpdrd"
      },
      "source": [
        "PATTERN 1\n"
      ]
    },
    {
      "cell_type": "code",
      "metadata": {
        "colab": {
          "base_uri": "https://localhost:8080/"
        },
        "id": "tKS-X2Sjpm0T",
        "outputId": "0f92a029-484c-479c-8419-8a58e5a5d0f7"
      },
      "source": [
        "for i in range(1,6):\n",
        "  for j in range(1,6):\n",
        "    print(\"*\",end=\"\")\n",
        "  print()"
      ],
      "execution_count": 1,
      "outputs": [
        {
          "output_type": "stream",
          "text": [
            "*****\n",
            "*****\n",
            "*****\n",
            "*****\n",
            "*****\n"
          ],
          "name": "stdout"
        }
      ]
    },
    {
      "cell_type": "markdown",
      "metadata": {
        "id": "UDQUY36PqPEr"
      },
      "source": [
        "PATTERN 2\n"
      ]
    },
    {
      "cell_type": "code",
      "metadata": {
        "colab": {
          "base_uri": "https://localhost:8080/"
        },
        "id": "0JYCTvc4qQfC",
        "outputId": "19c79fc1-4eed-4a23-c861-a7b335d84fcf"
      },
      "source": [
        "for i in range(1,6):\n",
        "  for j in range(1,6):\n",
        "    print(i,end=\"\")\n",
        "  print()"
      ],
      "execution_count": 2,
      "outputs": [
        {
          "output_type": "stream",
          "text": [
            "11111\n",
            "22222\n",
            "33333\n",
            "44444\n",
            "55555\n"
          ],
          "name": "stdout"
        }
      ]
    },
    {
      "cell_type": "markdown",
      "metadata": {
        "id": "9LF9b4vlqpnB"
      },
      "source": [
        "PATTERN 3"
      ]
    },
    {
      "cell_type": "code",
      "metadata": {
        "colab": {
          "base_uri": "https://localhost:8080/"
        },
        "id": "83U-q-_zqrSU",
        "outputId": "578586de-7e72-4821-bd38-e51e11803960"
      },
      "source": [
        "for i in range(1,6):\n",
        "  for j in range(1,6):\n",
        "    print(j,end=\"\")\n",
        "  print()"
      ],
      "execution_count": 4,
      "outputs": [
        {
          "output_type": "stream",
          "text": [
            "12345\n",
            "12345\n",
            "12345\n",
            "12345\n",
            "12345\n"
          ],
          "name": "stdout"
        }
      ]
    },
    {
      "cell_type": "markdown",
      "metadata": {
        "id": "Qq1Imgicq4rA"
      },
      "source": [
        "PATTERN 4"
      ]
    },
    {
      "cell_type": "code",
      "metadata": {
        "colab": {
          "base_uri": "https://localhost:8080/"
        },
        "id": "vXgHkknkq-Vi",
        "outputId": "4264d78d-ba27-4ace-c936-6a534883df6f"
      },
      "source": [
        "for i in range(5,0,-1):\n",
        "  for j in range(5,0,-1): \n",
        "    print(i,end=\"\")\n",
        "  print()"
      ],
      "execution_count": 5,
      "outputs": [
        {
          "output_type": "stream",
          "text": [
            "55555\n",
            "44444\n",
            "33333\n",
            "22222\n",
            "11111\n"
          ],
          "name": "stdout"
        }
      ]
    },
    {
      "cell_type": "markdown",
      "metadata": {
        "id": "JR42KzJprfiA"
      },
      "source": [
        "PATTERN 5"
      ]
    },
    {
      "cell_type": "code",
      "metadata": {
        "colab": {
          "base_uri": "https://localhost:8080/"
        },
        "id": "EwFH4SIVrJP3",
        "outputId": "46efb49f-2867-434d-8c17-0a05683e2676"
      },
      "source": [
        "for i in range(5,0,-1):\n",
        "  for j in range(5,0,-1): \n",
        "    print(j,end=\"\")\n",
        "  print()"
      ],
      "execution_count": 7,
      "outputs": [
        {
          "output_type": "stream",
          "text": [
            "54321\n",
            "54321\n",
            "54321\n",
            "54321\n",
            "54321\n"
          ],
          "name": "stdout"
        }
      ]
    },
    {
      "cell_type": "markdown",
      "metadata": {
        "id": "Vd2HI9-ZrsIZ"
      },
      "source": [
        "PATTERN 6"
      ]
    },
    {
      "cell_type": "code",
      "metadata": {
        "colab": {
          "base_uri": "https://localhost:8080/"
        },
        "id": "fGkoLEuArqfY",
        "outputId": "90ea2f29-2975-4b3b-cf32-c122af8f20b0"
      },
      "source": [
        "n=5\n",
        "k=1\n",
        "for i in range(1,n+1):\n",
        "  for j in range(1,n+1):\n",
        "    print(k,end=\" \")\n",
        "    k+=1\n",
        "  print()"
      ],
      "execution_count": 9,
      "outputs": [
        {
          "output_type": "stream",
          "text": [
            "1 2 3 4 5 \n",
            "6 7 8 9 10 \n",
            "11 12 13 14 15 \n",
            "16 17 18 19 20 \n",
            "21 22 23 24 25 \n"
          ],
          "name": "stdout"
        }
      ]
    },
    {
      "cell_type": "markdown",
      "metadata": {
        "id": "LuWR42n0sU0j"
      },
      "source": [
        "PATTERN 7"
      ]
    },
    {
      "cell_type": "code",
      "metadata": {
        "colab": {
          "base_uri": "https://localhost:8080/"
        },
        "id": "qwpjJ3NXsY1c",
        "outputId": "9dc28616-9b28-4e38-f82c-feb8eda4bd6e"
      },
      "source": [
        "n=5\n",
        "k=1\n",
        "for i in range(1,n+1):\n",
        "  for j in range(1,n+1):\n",
        "    print(k , end=\" \")\n",
        "    k+=2\n",
        "  print()"
      ],
      "execution_count": 10,
      "outputs": [
        {
          "output_type": "stream",
          "text": [
            "1 3 5 7 9 \n",
            "11 13 15 17 19 \n",
            "21 23 25 27 29 \n",
            "31 33 35 37 39 \n",
            "41 43 45 47 49 \n"
          ],
          "name": "stdout"
        }
      ]
    },
    {
      "cell_type": "markdown",
      "metadata": {
        "id": "d0RMJHVCsyEK"
      },
      "source": [
        "PATTERN 8"
      ]
    },
    {
      "cell_type": "code",
      "metadata": {
        "colab": {
          "base_uri": "https://localhost:8080/"
        },
        "id": "dPxMj21wszkF",
        "outputId": "32bdf538-6edd-499d-ac51-4f9bc257fb5c"
      },
      "source": [
        "n=5\n",
        "k=2\n",
        "for i in range(1,n+1):\n",
        "  for j in range(1,n+1):\n",
        "    print(k,end=\" \")\n",
        "    k+=2\n",
        "  print()"
      ],
      "execution_count": 12,
      "outputs": [
        {
          "output_type": "stream",
          "text": [
            "2 4 6 8 10 \n",
            "12 14 16 18 20 \n",
            "22 24 26 28 30 \n",
            "32 34 36 38 40 \n",
            "42 44 46 48 50 \n"
          ],
          "name": "stdout"
        }
      ]
    },
    {
      "cell_type": "markdown",
      "metadata": {
        "id": "CouugdS9tPc7"
      },
      "source": [
        "PATTERN 9"
      ]
    },
    {
      "cell_type": "code",
      "metadata": {
        "colab": {
          "base_uri": "https://localhost:8080/"
        },
        "id": "RQF1SWtjtNmh",
        "outputId": "1ce7d683-975a-484b-c0d1-7ec1d10372cc"
      },
      "source": [
        "n=5\n",
        "for i in range(1,n+1):\n",
        "  for j in range(1,n+1):\n",
        "    print(i*j,end=\" \")\n",
        "  print()"
      ],
      "execution_count": 13,
      "outputs": [
        {
          "output_type": "stream",
          "text": [
            "1 2 3 4 5 \n",
            "2 4 6 8 10 \n",
            "3 6 9 12 15 \n",
            "4 8 12 16 20 \n",
            "5 10 15 20 25 \n"
          ],
          "name": "stdout"
        }
      ]
    },
    {
      "cell_type": "markdown",
      "metadata": {
        "id": "xeI0uhrft5-B"
      },
      "source": [
        "PATTERN 10"
      ]
    },
    {
      "cell_type": "code",
      "metadata": {
        "colab": {
          "base_uri": "https://localhost:8080/"
        },
        "id": "ioEYFaI8uAnC",
        "outputId": "901ce8bc-fe86-4eff-e265-366739a650c0"
      },
      "source": [
        "for i in range(1,6):\n",
        "  for j in range(1,6):\n",
        "    print(\"{}{}\".format(j,i),end=\"\")\n",
        "  print()"
      ],
      "execution_count": 18,
      "outputs": [
        {
          "output_type": "stream",
          "text": [
            "1121314151\n",
            "1222324252\n",
            "1323334353\n",
            "1424344454\n",
            "1525354555\n"
          ],
          "name": "stdout"
        }
      ]
    },
    {
      "cell_type": "markdown",
      "metadata": {
        "id": "gjTCUgn-ui35"
      },
      "source": [
        "PATTERN 10"
      ]
    },
    {
      "cell_type": "code",
      "metadata": {
        "colab": {
          "base_uri": "https://localhost:8080/"
        },
        "id": "BQfbTiZbuo68",
        "outputId": "c0dfbd9d-d191-4ae5-9d4d-784659d87195"
      },
      "source": [
        "for i in range(1,6):\n",
        "  for j in range(1,6):\n",
        "    print(\"{}{}\".format(j,i),end=\"\")\n",
        "  print()"
      ],
      "execution_count": 19,
      "outputs": [
        {
          "output_type": "stream",
          "text": [
            "1121314151\n",
            "1222324252\n",
            "1323334353\n",
            "1424344454\n",
            "1525354555\n"
          ],
          "name": "stdout"
        }
      ]
    },
    {
      "cell_type": "markdown",
      "metadata": {
        "id": "YnreKnpRuw0n"
      },
      "source": [
        "PATTERN 11"
      ]
    },
    {
      "cell_type": "code",
      "metadata": {
        "colab": {
          "base_uri": "https://localhost:8080/"
        },
        "id": "VLeEYiqCuzSN",
        "outputId": "28e0bd1f-537d-4776-f97a-4b7b4a9a1ff4"
      },
      "source": [
        "for x in range(1,6):\n",
        "  for y in range(1,4):\n",
        "    print(\"{}{}\".format(x,y),end=\"\")\n",
        "  print()\n"
      ],
      "execution_count": 20,
      "outputs": [
        {
          "output_type": "stream",
          "text": [
            "111213\n",
            "212223\n",
            "313233\n",
            "414243\n",
            "515253\n"
          ],
          "name": "stdout"
        }
      ]
    },
    {
      "cell_type": "markdown",
      "metadata": {
        "id": "EmYItbQYzuLy"
      },
      "source": [
        "PATTERN 12"
      ]
    },
    {
      "cell_type": "code",
      "metadata": {
        "colab": {
          "base_uri": "https://localhost:8080/"
        },
        "id": "QwAZSFEcz1Nu",
        "outputId": "ff66182e-5b58-4f8b-f594-6e9478926971"
      },
      "source": [
        "n=5\n",
        "for i in range(1,n+1):\n",
        "  p=x\n",
        "  for j in range(1,n+1):\n",
        "    print(\"{}\".format(p),end=\"\")\n",
        "    p+=n\n",
        "  print()"
      ],
      "execution_count": 21,
      "outputs": [
        {
          "output_type": "stream",
          "text": [
            "510152025\n",
            "510152025\n",
            "510152025\n",
            "510152025\n",
            "510152025\n"
          ],
          "name": "stdout"
        }
      ]
    },
    {
      "cell_type": "markdown",
      "metadata": {
        "id": "Qp7WWiRN0XnH"
      },
      "source": [
        "PATTERN 13"
      ]
    },
    {
      "cell_type": "code",
      "metadata": {
        "colab": {
          "base_uri": "https://localhost:8080/"
        },
        "id": "NhPNY56m0cxT",
        "outputId": "8b2f1149-8b5a-4f48-dc6e-46a69b0f9ddf"
      },
      "source": [
        "n=5\n",
        "for i in range(1,n+1):\n",
        "  p1=i\n",
        "  p2=n-x+1\n",
        "  for y in range(1,n+1):\n",
        "    if y%2==1:\n",
        "      print(\"{}\".format(p1),end=\" \")\n",
        "    else:\n",
        "      print(\"{}\".format(p2),end=\" \")\n",
        "    p1 = p1+n\n",
        "    p2 = p2+n\n",
        "  print()"
      ],
      "execution_count": 26,
      "outputs": [
        {
          "output_type": "stream",
          "text": [
            "1 6 11 16 21 \n",
            "2 6 12 16 22 \n",
            "3 6 13 16 23 \n",
            "4 6 14 16 24 \n",
            "5 6 15 16 25 \n"
          ],
          "name": "stdout"
        }
      ]
    },
    {
      "cell_type": "markdown",
      "metadata": {
        "id": "RIFqxBpW6c3h"
      },
      "source": [
        "PATTERN 14"
      ]
    },
    {
      "cell_type": "code",
      "metadata": {
        "id": "ObXfFgHQ5owI"
      },
      "source": [
        ""
      ],
      "execution_count": null,
      "outputs": []
    }
  ]
}