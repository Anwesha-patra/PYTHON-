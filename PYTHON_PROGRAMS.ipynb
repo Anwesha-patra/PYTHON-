{
  "nbformat": 4,
  "nbformat_minor": 0,
  "metadata": {
    "colab": {
      "name": "PYTHON PROGRAMS.ipynb",
      "provenance": [],
      "authorship_tag": "ABX9TyOH3BwgN+B9x4mFkJmw/QE2",
      "include_colab_link": true
    },
    "kernelspec": {
      "name": "python3",
      "display_name": "Python 3"
    },
    "language_info": {
      "name": "python"
    }
  },
  "cells": [
    {
      "cell_type": "markdown",
      "metadata": {
        "id": "view-in-github",
        "colab_type": "text"
      },
      "source": [
        "<a href=\"https://colab.research.google.com/github/Anwesha-patra/PYTHON-/blob/main/PYTHON_PROGRAMS.ipynb\" target=\"_parent\"><img src=\"https://colab.research.google.com/assets/colab-badge.svg\" alt=\"Open In Colab\"/></a>"
      ]
    },
    {
      "cell_type": "markdown",
      "metadata": {
        "id": "A8WOVHAOEt7R"
      },
      "source": [
        " PROGRAM 1\n",
        " EVEN OR ODD NUMBER"
      ]
    },
    {
      "cell_type": "code",
      "metadata": {
        "colab": {
          "base_uri": "https://localhost:8080/"
        },
        "id": "RMM6f8PAE8lF",
        "outputId": "369ddd56-0440-4f1a-ef80-b84ad3083abb"
      },
      "source": [
        "n=int(input())\n",
        "if n%2==0:\n",
        "  print(n,\"is even\")\n",
        "else:\n",
        "  print(n,\"is odd\")"
      ],
      "execution_count": 1,
      "outputs": [
        {
          "output_type": "stream",
          "text": [
            "51\n",
            "51 is odd\n"
          ],
          "name": "stdout"
        }
      ]
    },
    {
      "cell_type": "markdown",
      "metadata": {
        "id": "3b5ausxNFMp8"
      },
      "source": [
        "PROGRAM 2  FACTORIAL"
      ]
    },
    {
      "cell_type": "code",
      "metadata": {
        "colab": {
          "base_uri": "https://localhost:8080/"
        },
        "id": "klCidCDvFIRY",
        "outputId": "d9e2e320-5ebf-44a4-bf41-99b8200bb989"
      },
      "source": [
        "fact = 1\n",
        "n=int(input())\n",
        "for i in range(1,n+1):\n",
        "  fact = fact * i\n",
        "print(fact)"
      ],
      "execution_count": 3,
      "outputs": [
        {
          "output_type": "stream",
          "text": [
            "5\n",
            "120\n"
          ],
          "name": "stdout"
        }
      ]
    },
    {
      "cell_type": "markdown",
      "metadata": {
        "id": "hBJnA5lvFgFY"
      },
      "source": [
        "PROGRAM 3 FACTORIAL USING FUNCTION"
      ]
    },
    {
      "cell_type": "code",
      "metadata": {
        "colab": {
          "base_uri": "https://localhost:8080/"
        },
        "id": "PITzJDWsFcWu",
        "outputId": "d1365e52-4945-460f-f2db-e40b18f00597"
      },
      "source": [
        "def fact(n):\n",
        "  if n<=1:\n",
        "    return 1\n",
        "  else:\n",
        "    n = n*fact(n-1)\n",
        "    return n\n",
        "n = int(input())\n",
        "print(\"Factorial of n is\",fact(n))"
      ],
      "execution_count": 4,
      "outputs": [
        {
          "output_type": "stream",
          "text": [
            "5\n",
            "Factorial of n is 120\n"
          ],
          "name": "stdout"
        }
      ]
    },
    {
      "cell_type": "markdown",
      "metadata": {
        "id": "9LXB7S8EGCmm"
      },
      "source": [
        "PROGRAM 4 PRIME NUMBER(LOGIC 1)"
      ]
    },
    {
      "cell_type": "code",
      "metadata": {
        "colab": {
          "base_uri": "https://localhost:8080/"
        },
        "id": "RBzM2_0_F_h6",
        "outputId": "f01cf953-134f-43ee-8c44-ad30b1b5f764"
      },
      "source": [
        "n = int(input())\n",
        "count = 0\n",
        "for i in range (1,n+1):\n",
        "  if n%i == 0:\n",
        "    count+= 1\n",
        "if count == 2:\n",
        "  print(\"{} is prime\".format(n))\n",
        "else:\n",
        "  print(\"{} is prime\".format(n))\n"
      ],
      "execution_count": 5,
      "outputs": [
        {
          "output_type": "stream",
          "text": [
            "13\n",
            "13 is prime\n"
          ],
          "name": "stdout"
        }
      ]
    },
    {
      "cell_type": "markdown",
      "metadata": {
        "id": "ZXHbnhC9GoT9"
      },
      "source": [
        "PROGRAM 5 PRIME NUMBER(LOGIC 2)"
      ]
    },
    {
      "cell_type": "code",
      "metadata": {
        "colab": {
          "base_uri": "https://localhost:8080/"
        },
        "id": "BS0pcwMbGmAS",
        "outputId": "d571183d-d582-4b08-ea4d-9b4126685f64"
      },
      "source": [
        "n = int(input())\n",
        "x = 2\n",
        "count = 0\n",
        "if n<=1:\n",
        "  count = 1\n",
        "while x<=n/2:\n",
        "  if n%x == 0:\n",
        "    count = 1\n",
        "    break\n",
        "  else:\n",
        "    x+=1\n",
        "if count == 1:\n",
        "  print(\"{} is not prime\".format(n))\n",
        "else:\n",
        "  print(\"{} is prime\".format(n))"
      ],
      "execution_count": 9,
      "outputs": [
        {
          "output_type": "stream",
          "text": [
            "11\n",
            "11 is prime\n"
          ],
          "name": "stdout"
        }
      ]
    },
    {
      "cell_type": "markdown",
      "metadata": {
        "id": "c6yi0nZ7HjK-"
      },
      "source": [
        "PROGRAM 6  LARGEST AMONG N DIGITS"
      ]
    },
    {
      "cell_type": "code",
      "metadata": {
        "colab": {
          "base_uri": "https://localhost:8080/"
        },
        "id": "rsikdt7uHYHd",
        "outputId": "7011874b-1896-4cd6-f190-75f9b3c0c341"
      },
      "source": [
        "arr = []\n",
        "n = int(input())\n",
        "for i in range(n):\n",
        "  a = int(input())\n",
        "  arr.append(a)\n",
        "print(max(arr))\n"
      ],
      "execution_count": 10,
      "outputs": [
        {
          "output_type": "stream",
          "text": [
            "5\n",
            "12\n",
            "23\n",
            "1\n",
            "10\n",
            "99\n",
            "99\n"
          ],
          "name": "stdout"
        }
      ]
    },
    {
      "cell_type": "markdown",
      "metadata": {
        "id": "XaxVJwNmIBm0"
      },
      "source": [
        "PROGRAM 7 SWAP 2 NUMBERS(LOGIC 1)\n"
      ]
    },
    {
      "cell_type": "code",
      "metadata": {
        "colab": {
          "base_uri": "https://localhost:8080/"
        },
        "id": "e34TlyZvH5I4",
        "outputId": "11708fdc-f656-4922-e49f-3e2ef6f67814"
      },
      "source": [
        "a=int(input())\n",
        "b = int(input())\n",
        "temp = a\n",
        "a = b\n",
        "b = temp\n",
        "print(a,b)"
      ],
      "execution_count": 11,
      "outputs": [
        {
          "output_type": "stream",
          "text": [
            "5\n",
            "10\n",
            "10 5\n"
          ],
          "name": "stdout"
        }
      ]
    },
    {
      "cell_type": "markdown",
      "metadata": {
        "id": "oUyXbZ_EIhL-"
      },
      "source": [
        "PROGRAM 8 SWAP 2 NUMBERS(LOGIC 2 )\n"
      ]
    },
    {
      "cell_type": "code",
      "metadata": {
        "colab": {
          "base_uri": "https://localhost:8080/"
        },
        "id": "gYYBzpGhIdRq",
        "outputId": "ad5d4632-3b26-4ff4-dbc5-127af392f34c"
      },
      "source": [
        "a = int(input())\n",
        "b = int(input())\n",
        "a,b = b,a\n",
        "print(a,b)"
      ],
      "execution_count": 12,
      "outputs": [
        {
          "output_type": "stream",
          "text": [
            "41\n",
            "21\n",
            "21 41\n"
          ],
          "name": "stdout"
        }
      ]
    },
    {
      "cell_type": "markdown",
      "metadata": {
        "id": "V44J_1i_I00X"
      },
      "source": [
        "PROGRAM 9 SWAP 2 NUMBERS(LOGIC 3)"
      ]
    },
    {
      "cell_type": "code",
      "metadata": {
        "colab": {
          "base_uri": "https://localhost:8080/"
        },
        "id": "u4IABY7oIwGo",
        "outputId": "b0e301eb-7610-4902-8647-83974a95d717"
      },
      "source": [
        "a = int(input())\n",
        "b = int(input())\n",
        "a = a+b\n",
        "b = a-b\n",
        "a = a-b\n",
        "print(a,b)"
      ],
      "execution_count": 13,
      "outputs": [
        {
          "output_type": "stream",
          "text": [
            "5\n",
            "3\n",
            "3 5\n"
          ],
          "name": "stdout"
        }
      ]
    },
    {
      "cell_type": "markdown",
      "metadata": {
        "id": "AGuYUtGhJAp9"
      },
      "source": [
        "PROGRAM 10  FIBONACCI SERIES"
      ]
    },
    {
      "cell_type": "code",
      "metadata": {
        "colab": {
          "base_uri": "https://localhost:8080/"
        },
        "id": "GF4bAQe2I9GA",
        "outputId": "b352b207-6b5b-4583-9cd4-3c6af3061be3"
      },
      "source": [
        "n = int(input())\n",
        "a=0\n",
        "b=1\n",
        "print(\" \",a,\" \",end=\"\")\n",
        "for i in range(n):\n",
        "  c = a+b\n",
        "  a = b\n",
        "  b = c\n",
        "  print(\" \" ,c,end=\"\")"
      ],
      "execution_count": 17,
      "outputs": [
        {
          "output_type": "stream",
          "text": [
            "10\n",
            "  0    1  2  3  5  8  13  21  34  55  89"
          ],
          "name": "stdout"
        }
      ]
    },
    {
      "cell_type": "markdown",
      "metadata": {
        "id": "YZripzGlK29A"
      },
      "source": [
        "PROGRAM 11 PALLINDROME STRING (LOGIC 1)"
      ]
    },
    {
      "cell_type": "code",
      "metadata": {
        "colab": {
          "base_uri": "https://localhost:8080/"
        },
        "id": "_zTeDvu3JjE6",
        "outputId": "f9712bb2-1ae7-439b-f49e-814f556d03da"
      },
      "source": [
        "str = input()\n",
        "str = str.casefold()\n",
        "if str == str[::-1]:\n",
        "  print(\"pallindrome\")\n",
        "else:\n",
        "  print(\"not pallindrome\")"
      ],
      "execution_count": 18,
      "outputs": [
        {
          "output_type": "stream",
          "text": [
            "Madam\n",
            "pallindrome\n"
          ],
          "name": "stdout"
        }
      ]
    },
    {
      "cell_type": "markdown",
      "metadata": {
        "id": "omVxXPF5X0A4"
      },
      "source": [
        "PROGRAM 12 PALLINDROME STRING(LOGIC 2)"
      ]
    },
    {
      "cell_type": "code",
      "metadata": {
        "colab": {
          "base_uri": "https://localhost:8080/"
        },
        "id": "6wAIe7ZrLXoR",
        "outputId": "c7f48935-d84e-4906-92bb-f7a1f1d4b481"
      },
      "source": [
        "s1 = input(\"Enter String\")\n",
        "s2=\"\"\n",
        "for i in s1:\n",
        "  s2 = i+s2\n",
        "if s1 == s2:\n",
        "  print(\"pallindriome\")\n",
        "else:\n",
        "  print(\"not pallindrome\")"
      ],
      "execution_count": 20,
      "outputs": [
        {
          "output_type": "stream",
          "text": [
            "Enter StringMadam\n",
            "not pallindrome\n"
          ],
          "name": "stdout"
        }
      ]
    },
    {
      "cell_type": "markdown",
      "metadata": {
        "id": "6tY4e9m1YxbU"
      },
      "source": [
        "PROGRAM 13 PALLINDROME NUMBER "
      ]
    },
    {
      "cell_type": "code",
      "metadata": {
        "colab": {
          "base_uri": "https://localhost:8080/"
        },
        "id": "XDPBDaI2YmhC",
        "outputId": "376518c9-fd5a-4474-eaa7-381541ba0f96"
      },
      "source": [
        "n = int(input())\n",
        "temp = n\n",
        "rev = 0\n",
        "while(n>0):\n",
        "  d= n % 10\n",
        "  rev = rev*10 + d\n",
        "  n = n//10\n",
        "if temp == rev:\n",
        "  print(\"Pallindrome\")\n",
        "else:\n",
        "  print(\"Not pallindrome\")"
      ],
      "execution_count": 21,
      "outputs": [
        {
          "output_type": "stream",
          "text": [
            "121\n",
            "Pallindrome\n"
          ],
          "name": "stdout"
        }
      ]
    },
    {
      "cell_type": "markdown",
      "metadata": {
        "id": "1kFVFwXIZU9T"
      },
      "source": [
        "PROGRAM 13 LEAP YEAR"
      ]
    },
    {
      "cell_type": "code",
      "metadata": {
        "colab": {
          "base_uri": "https://localhost:8080/"
        },
        "id": "hO8aqyt7ZNZ-",
        "outputId": "80f5aa96-7e57-4783-cac1-39b8f62b88d4"
      },
      "source": [
        "year = int(input())\n",
        "if year % 4 == 0 and year % 100 != 0 or year % 400 == 0:\n",
        "  print(\"Leap Year\")\n",
        "else: \n",
        "\n",
        "  print(\"Not Leap Year\")"
      ],
      "execution_count": 25,
      "outputs": [
        {
          "output_type": "stream",
          "text": [
            "2000\n",
            "Leap Year\n"
          ],
          "name": "stdout"
        }
      ]
    },
    {
      "cell_type": "markdown",
      "metadata": {
        "id": "vVlkI-IkZ1_I"
      },
      "source": [
        "PROGRAM 14 PASCAL TRIANGLE"
      ]
    },
    {
      "cell_type": "code",
      "metadata": {
        "colab": {
          "base_uri": "https://localhost:8080/"
        },
        "id": "7qVqhVy5Znys",
        "outputId": "ff59cf07-7522-4254-e230-f0b19f4b5706"
      },
      "source": [
        "def fact(n):\n",
        "  f=1\n",
        "  i = 1\n",
        "  while i<n:\n",
        "    f=f*i\n",
        "    i+=1\n",
        "  return f\n",
        "n = int(input())\n",
        "for i in range(n):\n",
        "  for j in range(i+1):\n",
        "    print(fact(i)//fact(i-j)*fact(j),end = \"\")\n",
        "  print()\n"
      ],
      "execution_count": 27,
      "outputs": [
        {
          "output_type": "stream",
          "text": [
            "6\n",
            "1\n",
            "11\n",
            "111\n",
            "1224\n",
            "1361236\n",
            "141248144576\n"
          ],
          "name": "stdout"
        }
      ]
    },
    {
      "cell_type": "markdown",
      "metadata": {
        "id": "MXlAQoWia1zm"
      },
      "source": [
        "PROGRAM 15 PERFECT NUMBER"
      ]
    },
    {
      "cell_type": "code",
      "metadata": {
        "id": "G5DbN9oFafox"
      },
      "source": [
        "n = int(input())\n",
        "i=1\n",
        "sum=0\n",
        "while(i<n):\n",
        "  if n%i== 0:\n",
        "    sum = sum + i\n",
        "    i+=1\n",
        "if sum == n:\n",
        "  print(\"Perfect Number\")\n",
        "else:\n",
        "  print(\"Not Perfect Number\")\n"
      ],
      "execution_count": null,
      "outputs": []
    },
    {
      "cell_type": "markdown",
      "metadata": {
        "id": "n1mAHt1Nc1wD"
      },
      "source": [
        "PROGRAM 16 ARMSTRONG NUMBER"
      ]
    },
    {
      "cell_type": "code",
      "metadata": {
        "id": "P0oVUj8Tc8f2"
      },
      "source": [
        "r = 0\n",
        "n = int(input())\n",
        "t = n\n",
        "while(n>0):\n",
        "  a = n%10\n",
        "  r = r+a*a*a\n",
        "  n = n//10\n",
        "if r==t:\n",
        "  print(\"Armstrong\")\n",
        "else:\n",
        "  print(\"Not Armstrong\")"
      ],
      "execution_count": null,
      "outputs": []
    },
    {
      "cell_type": "code",
      "metadata": {
        "id": "E10Rro7RdYrh"
      },
      "source": [
        ""
      ],
      "execution_count": null,
      "outputs": []
    }
  ]
}