{
  "nbformat": 4,
  "nbformat_minor": 0,
  "metadata": {
    "colab": {
      "name": "DATASTRUCTURE(PYTHON).ipynb",
      "provenance": [],
      "collapsed_sections": [],
      "authorship_tag": "ABX9TyOSvdNZ8yCbQfpiXewMolFF",
      "include_colab_link": true
    },
    "kernelspec": {
      "name": "python3",
      "display_name": "Python 3"
    },
    "language_info": {
      "name": "python"
    }
  },
  "cells": [
    {
      "cell_type": "markdown",
      "metadata": {
        "id": "view-in-github",
        "colab_type": "text"
      },
      "source": [
        "<a href=\"https://colab.research.google.com/github/Anwesha-patra/PYTHON-/blob/main/DATASTRUCTURE(PYTHON).ipynb\" target=\"_parent\"><img src=\"https://colab.research.google.com/assets/colab-badge.svg\" alt=\"Open In Colab\"/></a>"
      ]
    },
    {
      "cell_type": "markdown",
      "metadata": {
        "id": "deGgUGYKwAY5"
      },
      "source": [
        "**STACK**\n",
        "Similar to pile of plates\n",
        "LIFO(LAST IN FIRST OUT)\n",
        "operations:\n",
        "\n",
        "\n",
        "1.push\n",
        "2.pop\n",
        "3.IsEmpty()\n",
        "4.IsFull()\n",
        "5.Peek\n",
        "\n"
      ]
    },
    {
      "cell_type": "code",
      "metadata": {
        "colab": {
          "base_uri": "https://localhost:8080/"
        },
        "id": "SZmGRG7awm5n",
        "outputId": "5365f99b-1993-40a4-b792-6c6cdd4e9392"
      },
      "source": [
        "def create_stack():\n",
        "  stack=[]\n",
        "  return stack\n",
        "#creating empty stack\n",
        "def check_empty(stack):\n",
        "  return len(stack)==0\n",
        "#Adding item to stack\n",
        "def push(stack,item):\n",
        "  stack.append(item)\n",
        "  print(\"pushed item\"+item)\n",
        "#Removing an element\n",
        "def pop(stack):\n",
        "  if check_empty(stack):\n",
        "    return \"Stack is empty\"\n",
        "  return stack.pop()\n",
        "stack=create_stack()\n",
        "push(stack,str(1))\n",
        "push(stack,str(12))\n",
        "push(stack,str(13))\n",
        "push(stack,str(17))\n",
        "print(str(stack))\n",
        "print(stack.pop())\n",
        "print(stack.pop())\n",
        "print(stack.pop())\n",
        "print(stack.pop())\n"
      ],
      "execution_count": null,
      "outputs": [
        {
          "output_type": "stream",
          "text": [
            "pushed item1\n",
            "pushed item12\n",
            "pushed item13\n",
            "pushed item17\n",
            "['1', '12', '13', '17']\n",
            "17\n",
            "13\n",
            "12\n",
            "1\n"
          ],
          "name": "stdout"
        }
      ]
    },
    {
      "cell_type": "markdown",
      "metadata": {
        "id": "6EPx1JY0z-G2"
      },
      "source": [
        "**QUEUE**\n",
        "\n",
        "Linear Queue:"
      ]
    },
    {
      "cell_type": "code",
      "metadata": {
        "colab": {
          "base_uri": "https://localhost:8080/"
        },
        "id": "-Plmh83_0FS1",
        "outputId": "e9747e02-a5bd-4043-f30f-934ae93f1f7f"
      },
      "source": [
        "class Queue:\n",
        "  def __init__(self):\n",
        "    self.queue=[]\n",
        "  #add an element\n",
        "  def enqueue(self,item):\n",
        "    self.queue.append(item)\n",
        "  #remove element\n",
        "  def dequeue(self):\n",
        "    if len(self.queue)<1:\n",
        "      return None\n",
        "    return self.queue.pop(0)\n",
        "  #display queue\n",
        "  def display(self):\n",
        "    print(self.queue)\n",
        "  def size(self):\n",
        "    return len(self.queue)\n",
        "  \n",
        "q=Queue()\n",
        "q.enqueue(10)\n",
        "q.enqueue(100)\n",
        "q.enqueue(150)\n",
        "q.enqueue(1210)\n",
        "q.enqueue(105)\n",
        "q.enqueue(170)\n",
        "q.display()\n",
        "q.dequeue()\n",
        "q.display()\n",
        "q.size()\n"
      ],
      "execution_count": null,
      "outputs": [
        {
          "output_type": "stream",
          "text": [
            "[10, 100, 150, 1210, 105, 170]\n",
            "[100, 150, 1210, 105, 170]\n"
          ],
          "name": "stdout"
        },
        {
          "output_type": "execute_result",
          "data": {
            "text/plain": [
              "5"
            ]
          },
          "metadata": {
            "tags": []
          },
          "execution_count": 13
        }
      ]
    },
    {
      "cell_type": "markdown",
      "metadata": {
        "id": "S0wCvY4M3pJw"
      },
      "source": [
        "CIRCULAR QUEUE"
      ]
    },
    {
      "cell_type": "code",
      "metadata": {
        "colab": {
          "base_uri": "https://localhost:8080/"
        },
        "id": "X8AsR8tZ1gPM",
        "outputId": "540e9453-05a5-476b-ff70-bedc30b90295"
      },
      "source": [
        "class CircularQueue():\n",
        "  def __init__(self,k):\n",
        "    self.k=k\n",
        "    self.queue=[None]*k\n",
        "    self.head = self.tail = -1\n",
        "  #insert element into queue\n",
        "  def enqueue(self,value):\n",
        "    if((self.tail+1)%self.k==self.head):\n",
        "      print(\"queue is full\")\n",
        "    elif(self.head==-1):\n",
        "      self.head=0\n",
        "      self.tail=0\n",
        "      self.queue[self.tail]=value\n",
        "    else:\n",
        "      self.tail=self.tail+1\n",
        "      self.queue[self.tail]=value\n",
        "  #delete element\n",
        "  def dequeue(self):\n",
        "    if self.head==-1:\n",
        "      print(\"Queue is Empty\")\n",
        "    elif(self.head==self.tail):\n",
        "      temp=self.queue[self.head]\n",
        "      self.head=-1\n",
        "      self.tail=-1\n",
        "      return temp\n",
        "    else:\n",
        "      temp=self.queue[self.head]\n",
        "      self.head=(self.head+1)%self.k\n",
        "      return temp\n",
        "  \n",
        "  def disp(self):\n",
        "    if(self.head == -1):\n",
        "      print(\"No element in the circular queue\")\n",
        "\n",
        "    elif (self.tail >= self.head):\n",
        "      for i in range(self.head, self.tail + 1):\n",
        "        print(self.queue[i], end=\" \")\n",
        "      print()\n",
        "    else:\n",
        "      for i in range(self.head, self.k):\n",
        "        print(self.queue[i], end=\" \")\n",
        "      for i in range(0, self.tail + 1):\n",
        "        print(self.queue[i], end=\" \")\n",
        "      print()\n",
        "\n",
        "\n",
        "# Your MyCircularQueue object will be instantiated and called as such:\n",
        "obj = CircularQueue(5)\n",
        "obj.enqueue(1)\n",
        "obj.enqueue(2)\n",
        "obj.enqueue(3)\n",
        "obj.enqueue(4)\n",
        "obj.enqueue(5)\n",
        "print(\"Initial queue\")\n",
        "obj.disp()\n",
        "\n",
        "obj.dequeue()\n",
        "print(\"After removing an element from the queue\")\n",
        "obj.disp()"
      ],
      "execution_count": null,
      "outputs": [
        {
          "output_type": "stream",
          "text": [
            "Initial queue\n",
            "1 2 3 4 5 \n",
            "After removing an element from the queue\n",
            "2 3 4 5 \n"
          ],
          "name": "stdout"
        }
      ]
    },
    {
      "cell_type": "markdown",
      "metadata": {
        "id": "AvxgMYgBM-Dc"
      },
      "source": [
        "DEQUE"
      ]
    },
    {
      "cell_type": "code",
      "metadata": {
        "id": "E1e-rWeb7V86",
        "colab": {
          "base_uri": "https://localhost:8080/"
        },
        "outputId": "eb5a3272-9bd6-404c-85d3-88a1dbea3c62"
      },
      "source": [
        "class Deque:\n",
        "  def __init__(self):\n",
        "    self.items=[]\n",
        "  def isEmpty(self):\n",
        "    return self.items==[]\n",
        "  def addRear(self,item):\n",
        "    self.items.append(item)\n",
        "  def addFront(self,item):\n",
        "    self.items.insert(0,item)\n",
        "  def removeFront(self):\n",
        "    return self.items.pop()\n",
        "  def removeRear(self):\n",
        "    return self.items.pop(0)\n",
        "  def size(self):\n",
        "    return len(self.items)\n",
        "d=Deque()\n",
        "print(d.isEmpty())\n",
        "d.addRear(8)\n",
        "d.addRear(5)\n",
        "d.addFront(7)\n",
        "print(d.size())\n",
        "print(d.removeRear())"
      ],
      "execution_count": null,
      "outputs": [
        {
          "output_type": "stream",
          "text": [
            "True\n",
            "3\n",
            "7\n"
          ],
          "name": "stdout"
        }
      ]
    },
    {
      "cell_type": "markdown",
      "metadata": {
        "id": "Iz0hv8BEPJQJ"
      },
      "source": [
        "LINKED LIST--\n",
        "1. SINGLE LINKED LIST"
      ]
    },
    {
      "cell_type": "markdown",
      "metadata": {
        "id": "7M9PSbR_gLnK"
      },
      "source": [
        "It includes series of connected nodes. Each node store data and addresss of next Node."
      ]
    },
    {
      "cell_type": "code",
      "metadata": {
        "id": "7F2InWI_wKbM",
        "colab": {
          "base_uri": "https://localhost:8080/"
        },
        "outputId": "e477053c-bfe3-465d-bf95-9a64e2532655"
      },
      "source": [
        "#CREATION AND DISPLAY OF SINGLE LINKED LIST\n",
        "class Node:\n",
        "  def __init__(self,item):\n",
        "    self.item=item\n",
        "    self.next=None\n",
        "class singleLinkedList:\n",
        "  def __init__(self):\n",
        "    self.head=None\n",
        "  def display(self):\n",
        "    if self.head==None:\n",
        "      print(\"Linked list is empty\")\n",
        "    else:\n",
        "      temp=self.head\n",
        "      while temp:\n",
        "        print(temp.item,\"-->\",end=\" \")\n",
        "        temp=temp.next\n",
        "l=singleLinkedList()\n",
        "l.display()\n",
        "n1=Node(10)\n",
        "l.head=n1\n",
        "n2=Node(20)\n",
        "n1.next=n2\n",
        "n3=Node(30)\n",
        "n2.next=n3\n",
        "n4=Node(40)\n",
        "n3.next=n4\n",
        "l.display()"
      ],
      "execution_count": 4,
      "outputs": [
        {
          "output_type": "stream",
          "text": [
            "Linked list is empty\n",
            "10 --> 20 --> 30 --> 40 --> "
          ],
          "name": "stdout"
        }
      ]
    },
    {
      "cell_type": "code",
      "metadata": {
        "colab": {
          "base_uri": "https://localhost:8080/"
        },
        "id": "vFQVY1kXhMk4",
        "outputId": "b6e5af75-94ef-4654-b944-622d1823127e"
      },
      "source": [
        "\"\"\" OPEARTION ON SINGLE LINKED LIST\n",
        "    1) INSERTION\n",
        "      1.a)INSERTION AT THE BEGINNING\n",
        "      1.b)INSERTION AT THE END\n",
        "      1.c)INSERTION AT THE DESIRED POSITION \"\"\"\n",
        "class Node:\n",
        "  def __init__(self,item):\n",
        "    self.item=item\n",
        "    self.next=None\n",
        "class sll:\n",
        "  def __init__(self):\n",
        "    self.head=None\n",
        "  def insAtBeg(self,item):\n",
        "    nb=Node(item)\n",
        "    nb.next=self.head\n",
        "    self.head=nb\n",
        "  def insAtEnd(self,item):\n",
        "    ne=Node(item)\n",
        "    temp=self.head\n",
        "    while temp.next:\n",
        "      temp=temp.next\n",
        "    temp.next=ne\n",
        "  def insAtPos(self,pos,item):\n",
        "    np=Node(item)\n",
        "    temp=self.head\n",
        "    for i in range(pos-1):\n",
        "      temp=temp.next\n",
        "    np.item=item\n",
        "    np.next=temp.next\n",
        "    temp.next=np\n",
        "  def disp(self):\n",
        "    if self.head==None:\n",
        "      print(\"Linked List Is Empty\")\n",
        "    else:\n",
        "      temp=self.head\n",
        "      while temp:\n",
        "        print(temp.item,\"-->\",end=\"\")\n",
        "        temp=temp.next\n",
        "      print()\n",
        "l=sll()\n",
        "l.disp()\n",
        "n1=Node(10)\n",
        "l.head=n1\n",
        "n2=Node(20)\n",
        "n1.next=n2\n",
        "n3=Node(30)\n",
        "n2.next=n3\n",
        "n4=Node(40)\n",
        "n3.next=n4\n",
        "n5=Node(50)\n",
        "n4.next=n5\n",
        "l.disp()\n",
        "l.insAtBeg(90)\n",
        "l.disp()\n",
        "l.insAtEnd(80)\n",
        "l.disp()\n",
        "l.insAtPos(3,100)\n",
        "l.disp()\n"
      ],
      "execution_count": 17,
      "outputs": [
        {
          "output_type": "stream",
          "text": [
            "Linked List Is Empty\n",
            "10 -->20 -->30 -->40 -->50 -->\n",
            "90 -->10 -->20 -->30 -->40 -->50 -->\n",
            "90 -->10 -->20 -->30 -->40 -->50 -->80 -->\n",
            "90 -->10 -->20 -->100 -->30 -->40 -->50 -->80 -->\n"
          ],
          "name": "stdout"
        }
      ]
    },
    {
      "cell_type": "code",
      "metadata": {
        "colab": {
          "base_uri": "https://localhost:8080/"
        },
        "id": "_hSrqujHl-iG",
        "outputId": "dd5fef34-62fd-4b8d-eae6-b939c5a05010"
      },
      "source": [
        "\"\"\" 2) DELETION\n",
        "        2.a)DELETION AT BEGINNING\n",
        "        2.b) DELETION AT END\n",
        "        2.c) DELETION AT DESIRED POSITION \"\"\"\n",
        "class Node:\n",
        "  def __init__(self,item):\n",
        "    self.item=item\n",
        "    self.next=None\n",
        "class sll:\n",
        "  def __init__(self):\n",
        "    self.head=None\n",
        "  def delAtBeg(self):\n",
        "    temp=self.head\n",
        "    self.head=temp.next\n",
        "    temp.next=None\n",
        "    temp=None\n",
        "  def delAtEnd(self):\n",
        "    temp=self.head.next\n",
        "    prev=self.head\n",
        "    while temp.next is not None:\n",
        "      temp=temp.next\n",
        "      prev=prev.next\n",
        "    prev.next=None\n",
        "  def delAtpos(self,pos):\n",
        "    temp=self.head.next\n",
        "    prev=self.head\n",
        "    for i in range(1,pos-1):\n",
        "      temp=temp.next\n",
        "      prev=prev.next\n",
        "    prev.next=temp.next\n",
        "    temp.next=None\n",
        "  def disp(self):\n",
        "    if self.head==None:\n",
        "      print(\"Linked List Is Empty\")\n",
        "    else:\n",
        "      temp=self.head\n",
        "      while temp:\n",
        "        print(temp.item,\"-->\",end=\"\")\n",
        "        temp=temp.next\n",
        "      print()\n",
        "l=sll()\n",
        "l.disp()\n",
        "n1=Node(10)\n",
        "l.head=n1\n",
        "n2=Node(20)\n",
        "n1.next=n2\n",
        "n3=Node(30)\n",
        "n2.next=n3\n",
        "n4=Node(40)\n",
        "n3.next=n4\n",
        "n5=Node(50)\n",
        "n4.next=n5\n",
        "l.disp()\n",
        "l.delAtBeg()\n",
        "l.disp()\n",
        "l.delAtEnd()\n",
        "l.disp()\n",
        "l.delAtpos(3)\n",
        "l.disp()\n"
      ],
      "execution_count": 27,
      "outputs": [
        {
          "output_type": "stream",
          "text": [
            "Linked List Is Empty\n",
            "10 -->20 -->30 -->40 -->50 -->\n",
            "20 -->30 -->40 -->50 -->\n",
            "20 -->30 -->40 -->\n",
            "20 -->30 -->\n"
          ],
          "name": "stdout"
        }
      ]
    },
    {
      "cell_type": "markdown",
      "metadata": {
        "id": "gbLs8GZqCNeK"
      },
      "source": [
        "DOUBLE LINKED LIST"
      ]
    },
    {
      "cell_type": "code",
      "metadata": {
        "colab": {
          "base_uri": "https://localhost:8080/"
        },
        "id": "Zxy1AKHiuc4T",
        "outputId": "cb0454fa-5808-4d33-9670-90b80cc08593"
      },
      "source": [
        "\"\"\" DOUBLE LINKED LIST :IT IS A LIST IN WHICH NODES ARE CONNECTED THROUGH LINKS, EACH NODE LINKS TO NEXT ITEM AS WELL AS PREVIOUS ITEM\"\"\"\n",
        "# creation and display of double linked list\n",
        "class Node():\n",
        "  def __init__(self,item):\n",
        "    self.item=item\n",
        "    self.next=None\n",
        "    self.prev=None\n",
        "class dll:\n",
        "  def __init__(self):\n",
        "    self.head=None\n",
        "  def display(self):\n",
        "    if self.head==None:\n",
        "      print(\"empty\")\n",
        "    else:\n",
        "      temp=self.head\n",
        "      while temp:\n",
        "        print(temp.item,\"-->\",end=\" \")\n",
        "        temp=temp.next\n",
        "ll=dll()\n",
        "ll.display()\n",
        "n1=Node(10)\n",
        "ll.head=n1\n",
        "n2=Node(20)\n",
        "n2.prev=n1\n",
        "n1.next=n2\n",
        "n3=Node(30)\n",
        "n3.prev=n2\n",
        "n2.next=n3\n",
        "n4=Node(40)\n",
        "n3.next=n4\n",
        "n4.prev=n3\n",
        "ll.display()\n"
      ],
      "execution_count": 2,
      "outputs": [
        {
          "output_type": "stream",
          "text": [
            "empty\n",
            "10 --> 20 --> 30 --> 40 --> "
          ],
          "name": "stdout"
        }
      ]
    },
    {
      "cell_type": "code",
      "metadata": {
        "colab": {
          "base_uri": "https://localhost:8080/"
        },
        "id": "oD1R6AgEDhFK",
        "outputId": "f219dd62-bd35-48e4-b472-e8c5e600d8fc"
      },
      "source": [
        "\"\"\" OPEARTIONS ON DOUBLE LINKED LIST :\n",
        "    1) INSERTION\n",
        "      1.a)INSERTION AT BEGINNING\n",
        "      1.b)INERTION AT END\n",
        "      1.c)INSERTION AT DESIRED POSITION\n",
        "      \"\"\"\n",
        "class Node:\n",
        "  def __init__(self,item):\n",
        "    self.item=item\n",
        "    self.next=None\n",
        "    self.prev=None\n",
        "class dll:\n",
        "  def __init__(self):\n",
        "    self.head=None\n",
        "  def insAtBeg(self,item):\n",
        "    nb=Node(item)\n",
        "    nb.next=self.head\n",
        "    self.head=nb\n",
        "  def insAtEnd(self,item):\n",
        "    ne=Node(item)\n",
        "    temp=self.head\n",
        "    while temp.next:\n",
        "      temp=temp.next\n",
        "    temp.next=ne\n",
        "  def insAtPos(self,pos,item):\n",
        "    np=Node(item)\n",
        "    temp=self.head\n",
        "    for i in range(1,pos-1):\n",
        "      temp=temp.next\n",
        "    np.item=item\n",
        "    np.next=temp.next\n",
        "    temp.next=np\n",
        "  def display(self):\n",
        "    if self.head==None:\n",
        "      print(\"empty\")\n",
        "    else:\n",
        "      temp=self.head\n",
        "      while temp:\n",
        "        print(temp.item,\"-->\",end=\" \")\n",
        "        temp=temp.next\n",
        "      print()\n",
        "ll=dll()\n",
        "ll.display()\n",
        "n1=Node(10)\n",
        "ll.head=n1\n",
        "n2=Node(20)\n",
        "n2.prev=n1\n",
        "n1.next=n2\n",
        "n3=Node(30)\n",
        "n3.prev=n2\n",
        "n2.next=n3\n",
        "n4=Node(40)\n",
        "n3.next=n4\n",
        "n4.prev=n3\n",
        "ll.display()\n",
        "ll.insAtBeg(100)\n",
        "ll.display()\n",
        "ll.insAtEnd(200)\n",
        "ll.display()\n",
        "ll.insAtPos(3,500)\n",
        "ll.display()"
      ],
      "execution_count": 5,
      "outputs": [
        {
          "output_type": "stream",
          "text": [
            "empty\n",
            "10 --> 20 --> 30 --> 40 --> \n",
            "100 --> 10 --> 20 --> 30 --> 40 --> \n",
            "100 --> 10 --> 20 --> 30 --> 40 --> 200 --> \n",
            "100 --> 10 --> 500 --> 20 --> 30 --> 40 --> 200 --> \n"
          ],
          "name": "stdout"
        }
      ]
    },
    {
      "cell_type": "code",
      "metadata": {
        "id": "Bf41bZDYHb5e"
      },
      "source": [
        ""
      ],
      "execution_count": null,
      "outputs": []
    }
  ]
}