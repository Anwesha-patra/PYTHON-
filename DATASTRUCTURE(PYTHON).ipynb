{
  "nbformat": 4,
  "nbformat_minor": 0,
  "metadata": {
    "colab": {
      "name": "DATASTRUCTURE(PYTHON).ipynb",
      "provenance": [],
      "collapsed_sections": [],
      "authorship_tag": "ABX9TyMTj+3vWf8j0KBLPJd3Aszd",
      "include_colab_link": true
    },
    "kernelspec": {
      "name": "python3",
      "display_name": "Python 3"
    },
    "language_info": {
      "name": "python"
    }
  },
  "cells": [
    {
      "cell_type": "markdown",
      "metadata": {
        "id": "view-in-github",
        "colab_type": "text"
      },
      "source": [
        "<a href=\"https://colab.research.google.com/github/Anwesha-patra/PYTHON-/blob/main/DATASTRUCTURE(PYTHON).ipynb\" target=\"_parent\"><img src=\"https://colab.research.google.com/assets/colab-badge.svg\" alt=\"Open In Colab\"/></a>"
      ]
    },
    {
      "cell_type": "markdown",
      "metadata": {
        "id": "deGgUGYKwAY5"
      },
      "source": [
        "**STACK**\n",
        "Similar to pile of plates\n",
        "LIFO(LAST IN FIRST OUT)\n",
        "operations:\n",
        "\n",
        "\n",
        "1.push\n",
        "2.pop\n",
        "3.IsEmpty()\n",
        "4.IsFull()\n",
        "5.Peek\n",
        "\n"
      ]
    },
    {
      "cell_type": "code",
      "metadata": {
        "colab": {
          "base_uri": "https://localhost:8080/"
        },
        "id": "SZmGRG7awm5n",
        "outputId": "5365f99b-1993-40a4-b792-6c6cdd4e9392"
      },
      "source": [
        "def create_stack():\n",
        "  stack=[]\n",
        "  return stack\n",
        "#creating empty stack\n",
        "def check_empty(stack):\n",
        "  return len(stack)==0\n",
        "#Adding item to stack\n",
        "def push(stack,item):\n",
        "  stack.append(item)\n",
        "  print(\"pushed item\"+item)\n",
        "#Removing an element\n",
        "def pop(stack):\n",
        "  if check_empty(stack):\n",
        "    return \"Stack is empty\"\n",
        "  return stack.pop()\n",
        "stack=create_stack()\n",
        "push(stack,str(1))\n",
        "push(stack,str(12))\n",
        "push(stack,str(13))\n",
        "push(stack,str(17))\n",
        "print(str(stack))\n",
        "print(stack.pop())\n",
        "print(stack.pop())\n",
        "print(stack.pop())\n",
        "print(stack.pop())\n"
      ],
      "execution_count": 19,
      "outputs": [
        {
          "output_type": "stream",
          "text": [
            "pushed item1\n",
            "pushed item12\n",
            "pushed item13\n",
            "pushed item17\n",
            "['1', '12', '13', '17']\n",
            "17\n",
            "13\n",
            "12\n",
            "1\n"
          ],
          "name": "stdout"
        }
      ]
    },
    {
      "cell_type": "markdown",
      "metadata": {
        "id": "6EPx1JY0z-G2"
      },
      "source": [
        "**QUEUE**\n",
        "\n",
        "Linear Queue:"
      ]
    },
    {
      "cell_type": "code",
      "metadata": {
        "colab": {
          "base_uri": "https://localhost:8080/"
        },
        "id": "-Plmh83_0FS1",
        "outputId": "e9747e02-a5bd-4043-f30f-934ae93f1f7f"
      },
      "source": [
        "class Queue:\n",
        "  def __init__(self):\n",
        "    self.queue=[]\n",
        "  #add an element\n",
        "  def enqueue(self,item):\n",
        "    self.queue.append(item)\n",
        "  #remove element\n",
        "  def dequeue(self):\n",
        "    if len(self.queue)<1:\n",
        "      return None\n",
        "    return self.queue.pop(0)\n",
        "  #display queue\n",
        "  def display(self):\n",
        "    print(self.queue)\n",
        "  def size(self):\n",
        "    return len(self.queue)\n",
        "  \n",
        "q=Queue()\n",
        "q.enqueue(10)\n",
        "q.enqueue(100)\n",
        "q.enqueue(150)\n",
        "q.enqueue(1210)\n",
        "q.enqueue(105)\n",
        "q.enqueue(170)\n",
        "q.display()\n",
        "q.dequeue()\n",
        "q.display()\n",
        "q.size()\n"
      ],
      "execution_count": 13,
      "outputs": [
        {
          "output_type": "stream",
          "text": [
            "[10, 100, 150, 1210, 105, 170]\n",
            "[100, 150, 1210, 105, 170]\n"
          ],
          "name": "stdout"
        },
        {
          "output_type": "execute_result",
          "data": {
            "text/plain": [
              "5"
            ]
          },
          "metadata": {
            "tags": []
          },
          "execution_count": 13
        }
      ]
    },
    {
      "cell_type": "markdown",
      "metadata": {
        "id": "S0wCvY4M3pJw"
      },
      "source": [
        "CIRCULAR QUEUE"
      ]
    },
    {
      "cell_type": "code",
      "metadata": {
        "colab": {
          "base_uri": "https://localhost:8080/"
        },
        "id": "X8AsR8tZ1gPM",
        "outputId": "540e9453-05a5-476b-ff70-bedc30b90295"
      },
      "source": [
        "class CircularQueue():\n",
        "  def __init__(self,k):\n",
        "    self.k=k\n",
        "    self.queue=[None]*k\n",
        "    self.head = self.tail = -1\n",
        "  #insert element into queue\n",
        "  def enqueue(self,value):\n",
        "    if((self.tail+1)%self.k==self.head):\n",
        "      print(\"queue is full\")\n",
        "    elif(self.head==-1):\n",
        "      self.head=0\n",
        "      self.tail=0\n",
        "      self.queue[self.tail]=value\n",
        "    else:\n",
        "      self.tail=self.tail+1\n",
        "      self.queue[self.tail]=value\n",
        "  #delete element\n",
        "  def dequeue(self):\n",
        "    if self.head==-1:\n",
        "      print(\"Queue is Empty\")\n",
        "    elif(self.head==self.tail):\n",
        "      temp=self.queue[self.head]\n",
        "      self.head=-1\n",
        "      self.tail=-1\n",
        "      return temp\n",
        "    else:\n",
        "      temp=self.queue[self.head]\n",
        "      self.head=(self.head+1)%self.k\n",
        "      return temp\n",
        "  \n",
        "  def disp(self):\n",
        "    if(self.head == -1):\n",
        "      print(\"No element in the circular queue\")\n",
        "\n",
        "    elif (self.tail >= self.head):\n",
        "      for i in range(self.head, self.tail + 1):\n",
        "        print(self.queue[i], end=\" \")\n",
        "      print()\n",
        "    else:\n",
        "      for i in range(self.head, self.k):\n",
        "        print(self.queue[i], end=\" \")\n",
        "      for i in range(0, self.tail + 1):\n",
        "        print(self.queue[i], end=\" \")\n",
        "      print()\n",
        "\n",
        "\n",
        "# Your MyCircularQueue object will be instantiated and called as such:\n",
        "obj = CircularQueue(5)\n",
        "obj.enqueue(1)\n",
        "obj.enqueue(2)\n",
        "obj.enqueue(3)\n",
        "obj.enqueue(4)\n",
        "obj.enqueue(5)\n",
        "print(\"Initial queue\")\n",
        "obj.disp()\n",
        "\n",
        "obj.dequeue()\n",
        "print(\"After removing an element from the queue\")\n",
        "obj.disp()"
      ],
      "execution_count": 29,
      "outputs": [
        {
          "output_type": "stream",
          "text": [
            "Initial queue\n",
            "1 2 3 4 5 \n",
            "After removing an element from the queue\n",
            "2 3 4 5 \n"
          ],
          "name": "stdout"
        }
      ]
    },
    {
      "cell_type": "code",
      "metadata": {
        "id": "E1e-rWeb7V86"
      },
      "source": [
        ""
      ],
      "execution_count": null,
      "outputs": []
    }
  ]
}